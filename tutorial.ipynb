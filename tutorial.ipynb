{
 "cells": [
  {
   "cell_type": "markdown",
   "metadata": {},
   "source": [
    "# canica tutorial\n",
    "We start by loading a dataset into a pandas DataFrame (the format expected by canica) that contains the basic information canica needs:\n",
    "- A text column\n",
    "- An embedding for every piece of text. In this case they were obtained using OpenAI's embeddings endpoint.\n",
    "\n",
    "This dataset also includes extra information (the language and stars columns) that can be used by canica to color the data points."
   ]
  },
  {
   "cell_type": "code",
   "execution_count": null,
   "metadata": {},
   "outputs": [],
   "source": [
    "import pandas as pd\n",
    "from pathlib import Path\n",
    "\n",
    "dataset_path = Path(\"data\") / \"amazon_reviews_multi_val_de_en_100.parquet\"\n",
    "df = pd.read_parquet(dataset_path)\n",
    "df.head()"
   ]
  },
  {
   "cell_type": "markdown",
   "metadata": {},
   "source": [
    "We plot the data using [TSNE](https://en.wikipedia.org/wiki/T-distributed_stochastic_neighbor_embedding) and the language of the review as the coloring variable. Observe that the languages are colored using a discrete, categorical color scale. This happens when the variable is a string.\n",
    "\n",
    "Additionally, observe we are setting the option `\"use_PCA\": False`. This is an optimization tradeoff. Because the original embeddings have very high dimensionality, the tSNE algorithm benefits from reducing the dimensionality of the data using PCA. However, the performance gain is not noticeable when we have so few datapoints.\n"
   ]
  },
  {
   "cell_type": "code",
   "execution_count": null,
   "metadata": {},
   "outputs": [],
   "source": [
    "from canica.widget import CanicaTSNE\n",
    "\n",
    "CanicaTSNE(\n",
    "    df,\n",
    "    embedding_col=\"embedding\",\n",
    "    text_col=\"text\",\n",
    "    hue_col=\"language\",\n",
    "    params={\"use_PCA\": False},\n",
    ")"
   ]
  },
  {
   "cell_type": "markdown",
   "metadata": {},
   "source": [
    "Now we do the same but using the [UMAP](https://umap-learn.readthedocs.io/en/latest/) algorithm and coloring by stars. Since stars are read as numbers, we can plot the data using a continuous color scale."
   ]
  },
  {
   "cell_type": "code",
   "execution_count": null,
   "metadata": {},
   "outputs": [],
   "source": [
    "from canica.widget import CanicaUMAP\n",
    "\n",
    "CanicaUMAP(df, embedding_col=\"embedding\", text_col=\"text\", hue_col=\"stars\")"
   ]
  }
 ],
 "metadata": {
  "kernelspec": {
   "display_name": "Python 3 (ipykernel)",
   "language": "python",
   "name": "python3"
  },
  "language_info": {
   "codemirror_mode": {
    "name": "ipython",
    "version": 3
   },
   "file_extension": ".py",
   "mimetype": "text/x-python",
   "name": "python",
   "nbconvert_exporter": "python",
   "pygments_lexer": "ipython3",
   "version": "3.11.6"
  }
 },
 "nbformat": 4,
 "nbformat_minor": 4
}
